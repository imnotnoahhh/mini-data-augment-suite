{
  "cells": [
    {
      "cell_type": "markdown",
      "id": "778385f4",
      "metadata": {},
      "source": [
        "# Single-Factor Stage Report\n",
        "\n",
        "This notebook mirrors the CLI pipeline and generates identical tables and plots for the CIFAR-100 single-factor stage."
      ]
    },
    {
      "cell_type": "code",
      "execution_count": null,
      "metadata": {},
      "outputs": [],
      "source": [
        "from pathlib import Path\n",
        "import sys\n",
        "import pandas as pd\n",
        "\n",
        "PROJECT_ROOT = Path(\"/Users/qinfuyao/dl\").resolve()\n",
        "if str(PROJECT_ROOT) not in sys.path:\n",
        "    sys.path.append(str(PROJECT_ROOT))\n",
        "\n",
        "STAGE_DIR = PROJECT_ROOT / \"outputs\" / \"single_factor\"\n",
        "REPORT_DIR = PROJECT_ROOT / \"artifacts\" / \"reports\" / \"single_factor\"\n",
        "\n",
        "RUN_SUMMARY_PATH = REPORT_DIR / \"run_summary.csv\"\n",
        "OP_STATS_PATH = REPORT_DIR / \"operation_strength_stats.csv\"\n",
        "BEST_STRENGTH_PATH = REPORT_DIR / \"best_strengths.csv\"\n",
        "\n",
        "artifacts = {}\n",
        "\n",
        "if RUN_SUMMARY_PATH.exists():\n",
        "    artifacts[\"run_dataframe\"] = pd.read_csv(RUN_SUMMARY_PATH)\n",
        "    artifacts[\"operation_stats\"] = pd.read_csv(OP_STATS_PATH)\n",
        "    artifacts[\"best_strengths\"] = pd.read_csv(BEST_STRENGTH_PATH)\n",
        "    artifacts[\"output_root\"] = REPORT_DIR\n",
        "else:\n",
        "    from analysis.single_factor_report import generate_report\n",
        "\n",
        "    result = generate_report(\n",
        "        stage_dir=STAGE_DIR,\n",
        "        output_dir=REPORT_DIR,\n",
        "    )\n",
        "    artifacts[\"run_dataframe\"] = result.run_dataframe\n",
        "    artifacts[\"operation_stats\"] = result.operation_stats\n",
        "    artifacts[\"best_strengths\"] = result.best_strengths\n",
        "    artifacts[\"output_root\"] = result.output_root\n",
        "\n",
        "artifacts[\"run_dataframe\"].head()\n"
      ]
    },
    {
      "cell_type": "code",
      "execution_count": null,
      "metadata": {},
      "outputs": [],
      "source": [
        "from analysis.single_factor_report import preview_tables\n",
        "\n",
        "tables = preview_tables(artifacts, max_rows=10)\n",
        "for name, frame in tables.items():\n",
        "    display(frame)\n"
      ]
    },
    {
      "cell_type": "markdown",
      "id": "b4d900bc",
      "metadata": {},
      "source": [
        "All CSV files and figures are saved under `artifacts/reports/single_factor/`. "
      ]
    }
  ],
  "metadata": {
    "kernelspec": {
      "display_name": "Python 3 (ipykernel)",
      "language": "python",
      "name": "python3"
    },
    "language_info": {
      "codemirror_mode": {
        "name": "ipython",
        "version": 3
      },
      "file_extension": ".py",
      "mimetype": "text/x-python",
      "name": "python",
      "nbconvert_exporter": "python",
      "pygments_lexer": "ipython3",
      "version": "3.13.7"
    }
  },
  "nbformat": 4,
  "nbformat_minor": 5
}